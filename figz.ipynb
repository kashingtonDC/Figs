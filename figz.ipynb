{
 "cells": [
  {
   "cell_type": "code",
   "execution_count": 1,
   "metadata": {},
   "outputs": [
    {
     "name": "stderr",
     "output_type": "stream",
     "text": [
      "<ipython-input-1-d4561e88e209>:17: MatplotlibDeprecationWarning: \n",
      "The mpl_toolkits.axes_grid module was deprecated in Matplotlib 2.1 and will be removed two minor releases later. Use mpl_toolkits.axes_grid1 and mpl_toolkits.axisartist, which provide the same functionality instead.\n",
      "  from mpl_toolkits.axes_grid.inset_locator import inset_axes\n"
     ]
    }
   ],
   "source": [
    "import os\n",
    "import datetime\n",
    "import time\n",
    "import shapely\n",
    "\n",
    "import geopandas as gp\n",
    "import numpy as np\n",
    "import pandas as pd\n",
    "import matplotlib.pyplot as plt\n",
    "import matplotlib.gridspec as gridspec\n",
    "\n",
    "from matplotlib.lines import Line2D\n",
    "from descartes import PolygonPatch\n",
    "from matplotlib.collections import PatchCollection\n",
    "from matplotlib.patches import Polygon\n",
    "from mpl_toolkits.basemap import Basemap\n",
    "from mpl_toolkits.axes_grid.inset_locator import inset_axes"
   ]
  },
  {
   "cell_type": "code",
   "execution_count": 2,
   "metadata": {},
   "outputs": [],
   "source": [
    "# Find files\n",
    "\n",
    "files = [x for x in os.listdir(os.getcwd())]\n",
    "json = [x for x in files if x.endswith(\"json\")]\n",
    "\n",
    "shps = [os.path.join(\"shp\",x) for x in os.listdir(\"shp\") if x.endswith(\".shp\")]\n",
    "shps.sort()"
   ]
  },
  {
   "cell_type": "code",
   "execution_count": 3,
   "metadata": {},
   "outputs": [
    {
     "name": "stderr",
     "output_type": "stream",
     "text": [
      "/anaconda3/envs/sci/lib/python3.8/site-packages/pyproj/crs/crs.py:53: FutureWarning: '+init=<authority>:<code>' syntax is deprecated. '<authority>:<code>' is the preferred initialization method. When making the change, be mindful of axis order changes: https://pyproj4.github.io/pyproj/stable/gotchas.html#axis-order-changes-in-proj-6\n",
      "  return _prepare_from_string(\" \".join(pjargs))\n",
      "/anaconda3/envs/sci/lib/python3.8/site-packages/pyproj/crs/crs.py:53: FutureWarning: '+init=<authority>:<code>' syntax is deprecated. '<authority>:<code>' is the preferred initialization method. When making the change, be mindful of axis order changes: https://pyproj4.github.io/pyproj/stable/gotchas.html#axis-order-changes-in-proj-6\n",
      "  return _prepare_from_string(\" \".join(pjargs))\n"
     ]
    }
   ],
   "source": [
    "# Read files\n",
    "\n",
    "dau = gp.read_file(json[0])\n",
    "\n",
    "huc8 = [x for x in shps if \"HU8\" in x]\n",
    "hu8 = gp.read_file(huc8[0])\n",
    "h8= hu8.to_crs(dau.crs)\n",
    "\n",
    "cvshp = [x for x in shps if \"cv\" in x]\n",
    "cvs = gp.read_file(cvshp[0])\n",
    "cv= cvs.to_crs(dau.crs)\n",
    "\n",
    "tulare_huc = dau[dau['hr_name'] == 'Tulare Lake'].dissolve(by = 'hr_code')"
   ]
  },
  {
   "cell_type": "code",
   "execution_count": 4,
   "metadata": {},
   "outputs": [],
   "source": [
    "tulare_huc = dau[dau['hr_name'] == 'Tulare Lake'].dissolve(by = 'hr_code')\n",
    "t = gp.sjoin(dau,h8, op = 'intersects')\n",
    "t2 = gp.sjoin(t.drop('index_right', axis= 1),cv, op = 'within')\n"
   ]
  },
  {
   "cell_type": "code",
   "execution_count": 5,
   "metadata": {},
   "outputs": [],
   "source": [
    "def draw_poly(gdf, mpl_map, facecolor = \"red\",  alpha = 0.3, edgecolor = 'black', lw = 1, fill = True):\n",
    "    \n",
    "    '''\n",
    "    Turns a geopandas gdf into matplotlib polygon patches for friendly plotting with basemap. \n",
    "    \n",
    "    '''    \n",
    "\n",
    "    for index, row in gdf.iterrows():\n",
    "        lats = []\n",
    "        lons = []\n",
    "        for pt in list(row['geometry'].exterior.coords): \n",
    "            lats.append(pt[1])\n",
    "            lons.append(pt[0])\n",
    "\n",
    "        x, y = m( lons, lats )\n",
    "        xy = zip(x,y)\n",
    "        poly = Polygon(list(xy), fc=facecolor, alpha=alpha, ec = edgecolor ,lw = lw, fill = fill)\n",
    "        plt.gca().add_patch(poly)"
   ]
  },
  {
   "cell_type": "code",
   "execution_count": null,
   "metadata": {},
   "outputs": [],
   "source": [
    "# Set up figure\n",
    "fig, ax1 = plt.subplots(figsize=(10, 10))\n",
    "\n",
    "# Initialize the basemap\n",
    "m = Basemap(ax = ax1,projection='lcc', ellps='WGS84',resolution='f', \n",
    "            lat_0=tulare_huc.centroid.y, lon_0=tulare_huc.centroid.x, # Use the geom centroid to center the map \n",
    "            width=0.8e6, height=0.9e6,\n",
    "            llcrnrlat = tulare_huc.bounds.miny,\n",
    "            llcrnrlon = tulare_huc.bounds.minx,\n",
    "            urcrnrlat = tulare_huc.bounds.maxy,\n",
    "            urcrnrlon = tulare_huc.bounds.maxx)\n",
    "\n",
    "# Add stuff to basemap \n",
    "m.shadedrelief(zorder = 0)\n",
    "m.drawcoastlines(color='gray')\n",
    "m.drawcountries(color='gray')\n",
    "m.drawstates(color='gray')\n",
    "m.drawrivers(color = \"blue\")\n",
    "m.fillcontinents(color='none',lake_color='blue')\n",
    "\n",
    "# Draw lines of latitude and longitude. Labels are like [left,right,top,bottom]\n",
    "parallels = np.arange(0.,90.,1.)\n",
    "meridians = np.arange(0.,360.,1.)\n",
    "\n",
    "m.drawparallels(parallels,labels=[True,False,True,False]) # [left,right,top,bottom]\n",
    "m.drawmeridians(meridians,labels=[True,False,False,True]) # [left,right,top,bottom]\n",
    "\n",
    "draw_poly(t, m, alpha = 1, edgecolor = 'black', lw = 0.7, fill = False)\n",
    "draw_poly(cv, m, alpha = 1, edgecolor = 'red', lw = 1.5, fill = False)\n",
    "draw_poly(h8, m, alpha = 1, edgecolor = 'green', lw = 1, fill = False)\n",
    "draw_poly(tulare_huc, m, alpha = 1, edgecolor = 'green', lw = 4, fill = False)\n",
    "\n",
    "\n",
    "custom_lines = [Line2D([0], [0], color='black', lw=2),\n",
    "                Line2D([0], [0], color='red', lw=2),\n",
    "                Line2D([0], [0], color='green', lw=2),\n",
    "                Line2D([0], [0], color='green', lw=4),\n",
    "                Line2D([0], [0], color='blue', lw=2)]\n",
    "\n",
    "plt.legend(custom_lines, ['DWR analysis units', 'CV boundary', 'USGS HUC8', \"USGS HUC6\", \"Rivers\"], loc = \"lower left\")\n",
    "\n",
    "plt.show()"
   ]
  }
 ],
 "metadata": {
  "kernelspec": {
   "display_name": "Python 3",
   "language": "python",
   "name": "python3"
  },
  "language_info": {
   "codemirror_mode": {
    "name": "ipython",
    "version": 3
   },
   "file_extension": ".py",
   "mimetype": "text/x-python",
   "name": "python",
   "nbconvert_exporter": "python",
   "pygments_lexer": "ipython3",
   "version": "3.8.2"
  }
 },
 "nbformat": 4,
 "nbformat_minor": 4
}
